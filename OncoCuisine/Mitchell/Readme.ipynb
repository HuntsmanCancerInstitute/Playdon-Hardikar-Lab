{
 "cells": [
  {
   "cell_type": "markdown",
   "id": "ed88ffff-c196-4a8a-a2ae-f397a1d19b9a",
   "metadata": {},
   "source": [
    "# OncoCuisine: Database\n",
    "\n",
    "> [!IMPORTANT]\n",
    "> This project is currently under heavy development.\n",
    "> Methods and results are still preliminary and subject to change.\n",
    "\n",
    "This system is a medical-focused recipe database integrating USDA nutritional data, ingredient classification, and symptom tracking. It supports personalized meal recommendations tailored to medical conditions (e.g., cancer), dietary restrictions, and user preferences. Pre-calculated nutrition summaries, scalable architecture, and advanced analytics enable efficient recommendations, medical nutrition therapy, and population-level dietary insights.\n",
    "\n",
    "## Development\n",
    "\n",
    "## Data Sources Utilized\n",
    "USDA FoodData Central API: Supplies comprehensive and standardized nutritional, classification, and identifier (FDC_ID, NDB, GTIN) data for raw and packaged foods.\n",
    "Hugging Face recipe.txt Dataset: Provides a broad set of recipe text and metadata, supporting the population of the recipe catalog and enabling NLP-driven categorization or ingredient extraction.\n",
    "\n",
    "Entity-Relationship Model\n",
    "\n",
    "\n",
    "\n",
    "\n",
    "## References\n",
    "\n",
    "List of related webpages not yet mentioned in the manuscript:\n",
    "\n",
    "- https://fdc.nal.usda.gov/\n",
    "- https://unclineberger.org/nutrition/\n",
    "-\n",
    "-\n",
    "\n",
    "## Publicity & Users\n",
    "\n",
    "- \n",
    "\n",
    "## Next Steps\n",
    "- Continue development of the **Oncocuisine food item mapping** to ensure accurate linkage between recipes and medical dietary classifications.  \n",
    "- Design and refine the **Entity-Relationship (ER) model** for the database.  \n",
    "- Clarify food item identifiers, noting that **FDC_ID is not a globally unique primary key** in USDA data.  \n",
    "- Define the **entity types** required to represent USDA nutrition and food records.  \n",
    "- Establish the **relationship types** to capture connections between recipes, ingredients, and USDA datasets.  \n",
    "- Specify **key attributes** for USDA data entities to support nutritional analysis and medical applications.  \n",
    "\n",
    "See this website for more information https://fdc.nal.usda.gov/help\n",
    "\n",
    "\n",
    "## License\n",
    "\n",
    "The code in this repository is released under a [>?License?<](>link.md<).\n",
    "\n",
    "This project is built on data from [>U.S Department of Agriculture:FoodData Central<](https://fdc.nal.usda.gov/api-guide)\n"
   ]
  }
 ],
 "metadata": {
  "kernelspec": {
   "display_name": "Python [conda env:base] *",
   "language": "python",
   "name": "conda-base-py"
  },
  "language_info": {
   "codemirror_mode": {
    "name": "ipython",
    "version": 3
   },
   "file_extension": ".py",
   "mimetype": "text/x-python",
   "name": "python",
   "nbconvert_exporter": "python",
   "pygments_lexer": "ipython3",
   "version": "3.9.21"
  }
 },
 "nbformat": 4,
 "nbformat_minor": 5
}
